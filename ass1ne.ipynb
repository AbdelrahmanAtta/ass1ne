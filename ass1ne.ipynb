{
 "cells": [
  {
   "cell_type": "code",
   "execution_count": 2,
   "id": "2b185095-c431-4b7a-9573-06c276284b23",
   "metadata": {},
   "outputs": [
    {
     "name": "stdout",
     "output_type": "stream",
     "text": [
      "h1 = 0.4835\n",
      "h2 = 0.4949\n",
      "o1 = 0.8062\n",
      "o2 = 0.8379\n",
      "Total Error = 0.260935\n"
     ]
    }
   ],
   "source": [
    "def activation(x):\n",
    "    return (2 / (1 + pow(2.71828, -2 * x))) - 1  \n",
    "\n",
    "i1, i2 = 0.05, 0.10\n",
    "\n",
    "w = [0.15, 0.20, 0.25, 0.30, 0.40, 0.45, 0.50, 0.55]\n",
    "b1, b2 = 0.5, 0.7\n",
    "\n",
    "h1 = activation(i1 * w[0] + i2 * w[1] + b1)\n",
    "h2 = activation(i1 * w[2] + i2 * w[3] + b1)\n",
    "\n",
    "# Output layer\n",
    "o1 = activation(h1 * w[4] + h2 * w[5] + b2)\n",
    "o2 = activation(h1 * w[6] + h2 * w[7] + b2)\n",
    "\n",
    "t1, t2 = 0.1, 0.99\n",
    "\n",
    "Eo1 = 0.5 * (t1 - o1) ** 2\n",
    "Eo2 = 0.5 * (t2 - o2) ** 2\n",
    "E_total = Eo1 + Eo2\n",
    "\n",
    "print(\"h1 =\", round(h1, 4))\n",
    "print(\"h2 =\", round(h2, 4))\n",
    "print(\"o1 =\", round(o1, 4))\n",
    "print(\"o2 =\", round(o2, 4))\n",
    "print(\"Total Error =\", round(E_total, 6))\n"
   ]
  },
  {
   "cell_type": "code",
   "execution_count": null,
   "id": "4a1dab81-f069-4853-b62d-59559d98f58f",
   "metadata": {},
   "outputs": [],
   "source": []
  }
 ],
 "metadata": {
  "kernelspec": {
   "display_name": "Python 3 (ipykernel)",
   "language": "python",
   "name": "python3"
  },
  "language_info": {
   "codemirror_mode": {
    "name": "ipython",
    "version": 3
   },
   "file_extension": ".py",
   "mimetype": "text/x-python",
   "name": "python",
   "nbconvert_exporter": "python",
   "pygments_lexer": "ipython3",
   "version": "3.11.7"
  }
 },
 "nbformat": 4,
 "nbformat_minor": 5
}
